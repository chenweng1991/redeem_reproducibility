{
 "cells": [
  {
   "cell_type": "markdown",
   "id": "2cb1872e-0eb1-4bd5-8504-8841222e72f0",
   "metadata": {},
   "source": [
    "# Note-3: Benchmark ReDeeM using Crispr-based lineage tracing.\n",
    "---\n",
    "\n",
    "**Author:** Chen Weng\n",
    "\n",
    "**Date:** October 27, 2023\n",
    "\n",
    "## Description\n",
    "\n",
    "This Jupyter Notebook aims reproduce the major analysis in Extended Data Fig. 5, 6\n",
    "\n",
    "## Related Figures\n",
    "- Extended Data Fig. 5 \n",
    "- Extended Data Fig. 6 \n",
    "\n",
    "\n",
    "\n",
    "---"
   ]
  },
  {
   "cell_type": "markdown",
   "id": "5560c365-9a1f-421e-adc0-58a35ce09daa",
   "metadata": {},
   "source": [
    "# Install redeemR"
   ]
  },
  {
   "cell_type": "code",
   "execution_count": 1,
   "id": "abeeef0b-6467-47ef-939e-accf4097daa0",
   "metadata": {},
   "outputs": [],
   "source": [
    "#devtools::install_github(\"chenweng1991/redeemR\")"
   ]
  },
  {
   "cell_type": "markdown",
   "id": "b893f90d-c253-45be-88f3-7101095268d4",
   "metadata": {},
   "source": [
    "# Import libraries"
   ]
  },
  {
   "cell_type": "code",
   "execution_count": 64,
   "id": "1113714e-b3b4-4945-989d-ae2e31c501cd",
   "metadata": {},
   "outputs": [],
   "source": [
    "library(redeemR)\n",
    "library(ggpubr)\n",
    "library(igraph)\n",
    "library(Matrix)\n",
    "library(dplyr)\n",
    "library(treeio)\n",
    "library(ggtree)\n",
    "library(gridExtra)"
   ]
  },
  {
   "cell_type": "markdown",
   "id": "901f7c1d-2b1e-4c57-a4e5-3b10e1e2bde2",
   "metadata": {},
   "source": [
    "# Set path"
   ]
  },
  {
   "cell_type": "code",
   "execution_count": 3,
   "id": "7a2f7917-b89d-4073-9505-fd1a5c158be1",
   "metadata": {},
   "outputs": [],
   "source": [
    "## set main directory to the reproducibility_pub\n",
    "Dir=\"/lab/solexa_weissman/cweng/Projects/MitoTracing_Velocity/SecondaryAnalysis/reproducibility_pub\" # Change this to your actual path **/reproducibility_pub"
   ]
  },
  {
   "cell_type": "code",
   "execution_count": 4,
   "id": "ac244fb1-3010-4f25-b788-859890ae9bcc",
   "metadata": {},
   "outputs": [],
   "source": [
    "source(paste(Dir,\"/API/Revision.api\",sep=\"\"))"
   ]
  },
  {
   "cell_type": "markdown",
   "id": "a1649283-eded-4274-bb10-5d9425f2246d",
   "metadata": {},
   "source": [
    "# Preprocess Crispr-based weighted hamming distance"
   ]
  },
  {
   "cell_type": "markdown",
   "id": "03d1923e-f8df-4fc3-993d-f78d6e1b3a46",
   "metadata": {},
   "source": [
    "## Batch1"
   ]
  },
  {
   "cell_type": "code",
   "execution_count": 11,
   "id": "c83304d6-a7e7-43fa-8b6d-752b0940fab2",
   "metadata": {},
   "outputs": [],
   "source": [
    "Samples.batch1<-c(\"CD24_1\",\"CD47_1\",\"CD47_2\",\"Ctrl_1\",\"Ctrl_2\",\"DKO_1\")"
   ]
  },
  {
   "cell_type": "code",
   "execution_count": 12,
   "id": "11be2437-1288-47f3-91d8-065a52db5d0c",
   "metadata": {},
   "outputs": [],
   "source": [
    "## Read in a list of weighted hamming distance for each sample\n",
    "whm.list<-list()\n",
    "for(name in Samples.batch1){\n",
    "filename=paste(Dir,\"/data/CRISPR/batch1/weighted_hm_distance.\",name,sep=\"\")\n",
    "    whm<-read.csv(filename,row.names = 1)\n",
    "    whm.list<-c(whm.list,list(whm))\n",
    "}\n",
    "names(whm.list)<-Samples.batch1"
   ]
  },
  {
   "cell_type": "code",
   "execution_count": 13,
   "id": "db5d7654-db4b-468b-8ab2-ac3a7ca453b6",
   "metadata": {},
   "outputs": [
    {
     "name": "stderr",
     "output_type": "stream",
     "text": [
      "The following `from` values were not present in `x`: 1, 2, 3\n",
      "\n",
      "The following `from` values were not present in `x`: 1, 2, 3\n",
      "\n",
      "The following `from` values were not present in `x`: 1, 2, 3\n",
      "\n",
      "The following `from` values were not present in `x`: 1, 2, 3\n",
      "\n",
      "The following `from` values were not present in `x`: 1, 2, 3\n",
      "\n",
      "The following `from` values were not present in `x`: 1, 2, 3\n",
      "\n"
     ]
    }
   ],
   "source": [
    "## Preprocessing whm.list\n",
    "whm.list<-lapply(whm.list,function(x){\n",
    "    x[is.na(x)]<-1\n",
    "    return(x)\n",
    "})\n",
    "\n",
    "#### CellNames are ATAC version names\n",
    "CellNames<-lapply(whm.list,function(x){gsub(\"_\",\"\",Translate_simple_RNA2ATAC(row.names(x)))})\n",
    "for(i in 1:6){\n",
    "    row.names(whm.list[[i]])<-colnames(whm.list[[i]])<-paste(CellNames[[i]],\"_1\",sep=\"\")\n",
    "}"
   ]
  },
  {
   "cell_type": "markdown",
   "id": "6558df13-c22c-4b6e-a275-289591d926d1",
   "metadata": {},
   "source": [
    "## Batch2"
   ]
  },
  {
   "cell_type": "code",
   "execution_count": 14,
   "id": "bffdc4ec-c4aa-41ba-bce2-de2a60e014de",
   "metadata": {},
   "outputs": [],
   "source": [
    "Samples.batch2<-c(\"NT1\",\"NT2\",\"T24_1\",\"T24_2\",\"T24_3\",\"T47_1\")"
   ]
  },
  {
   "cell_type": "code",
   "execution_count": 15,
   "id": "2c1ceb1b-461a-4340-89c5-b4330f693f35",
   "metadata": {},
   "outputs": [],
   "source": [
    "## Read in a list of weighted hamming distance for each sample\n",
    "whm.list.batch2<-list()\n",
    "for(name in Samples.batch2){\n",
    "filename=paste(Dir,\"/data/CRISPR/batch2/weighted_hm_distance.\",name,sep=\"\")\n",
    "    whm<-read.csv(filename,row.names = 1)\n",
    "    whm.list.batch2<-c(whm.list.batch2,list(whm))\n",
    "}\n",
    "names(whm.list.batch2)<-Samples.batch2"
   ]
  },
  {
   "cell_type": "code",
   "execution_count": 16,
   "id": "bdcca5fd-9f23-475f-980d-57620931043c",
   "metadata": {},
   "outputs": [
    {
     "name": "stderr",
     "output_type": "stream",
     "text": [
      "The following `from` values were not present in `x`: 1, 2, 3\n",
      "\n",
      "The following `from` values were not present in `x`: 1, 2, 3\n",
      "\n",
      "The following `from` values were not present in `x`: 1, 2, 3\n",
      "\n",
      "The following `from` values were not present in `x`: 1, 2, 3\n",
      "\n",
      "The following `from` values were not present in `x`: 1, 2, 3\n",
      "\n",
      "The following `from` values were not present in `x`: 1, 2, 3\n",
      "\n"
     ]
    }
   ],
   "source": [
    "whm.list.batch2<-lapply(whm.list.batch2,function(x){\n",
    "    x[is.na(x)]<-1\n",
    "    return(x)\n",
    "})\n",
    "#### CellNames are ATAC version names\n",
    "CellNames.batch2<-lapply(whm.list.batch2,function(x){gsub(\"_\",\"\",Translate_simple_RNA2ATAC(row.names(x)))})\n",
    "for(i in 1:6){\n",
    "    row.names(whm.list.batch2[[i]])<-colnames(whm.list.batch2[[i]])<-paste(CellNames.batch2[[i]],\"_1\",sep=\"\")\n",
    "}"
   ]
  },
  {
   "cell_type": "code",
   "execution_count": 18,
   "id": "9ad3a1f1-dd36-447d-8570-e535199395ca",
   "metadata": {},
   "outputs": [],
   "source": [
    "## Combine batch1 and batch2\n",
    "whm.list<-c(whm.list,whm.list.batch2)\n",
    "CellNames<-c(CellNames,CellNames.batch2)"
   ]
  },
  {
   "cell_type": "code",
   "execution_count": null,
   "id": "b7f33c36-6eb9-47b5-b397-b3c3e96b3996",
   "metadata": {},
   "outputs": [],
   "source": []
  },
  {
   "cell_type": "markdown",
   "id": "873bc761-93a9-4606-8901-979a7c5266ee",
   "metadata": {},
   "source": [
    "## Multidimensional scaling for CRISPR"
   ]
  },
  {
   "cell_type": "code",
   "execution_count": 19,
   "id": "65e3cb5a-ce64-4517-b9d5-b47450be3f1b",
   "metadata": {},
   "outputs": [],
   "source": [
    "## Make a wrapped function for dimension reduction for CRISPR hamming distances\n",
    "Run_Crispr<-function(whm,N=7){\n",
    "    cmd.fit <- cmdscale(whm,eig=TRUE, k=2)\n",
    "    cmd.hc<-hclust(as.dist(whm))\n",
    "    cmd.hc.clusters<-cutree(cmd.hc,k = N) %>% data.frame(cluster=.) %>% mutate(cluster=as.character(cluster))\n",
    "    cmd.fit.result<-cmd.fit$point %>% as.data.frame() %>% Tomerge_v2(.,cmd.hc.clusters)\n",
    "    p<-ggplot(cmd.fit.result)+aes(V1,V2,color=cluster)+geom_point()+theme_pubr()+scale_color_brewer(palette=\"Set1\")+labs(x=\"Dim1\",y=\"Dim2\")\n",
    "    return(list(cmd.fit.result=cmd.fit.result,p=p))\n",
    "}"
   ]
  },
  {
   "cell_type": "code",
   "execution_count": 20,
   "id": "810f9fe7-53b9-446e-9a4b-5851f98347e2",
   "metadata": {},
   "outputs": [],
   "source": [
    "whm.cmd.list<-list()\n",
    "ps<-list()\n",
    "for(i in 1:length(whm.list)){\n",
    "    whm.cmd<-Run_Crispr(whm.list[[i]],N=7)\n",
    "    whm.cmd.list<-c(whm.cmd.list,list(whm.cmd[[1]]))\n",
    "    ps<-c(ps,list(whm.cmd[[2]]))\n",
    "}"
   ]
  },
  {
   "cell_type": "markdown",
   "id": "bdc39950-038b-4a5c-8e06-b473e8400ad9",
   "metadata": {},
   "source": [
    "## Extended Data Fig. 5b"
   ]
  },
  {
   "cell_type": "code",
   "execution_count": 21,
   "id": "ecef5e75-9058-46f7-a5f0-483d44b8f07a",
   "metadata": {},
   "outputs": [
    {
     "data": {
      "image/png": "[encoded data removed]",
      "text/plain": [
       "plot without title"
      ]
     },
     "metadata": {
      "image/png": {
       "height": 225,
       "width": 225
      }
     },
     "output_type": "display_data"
    }
   ],
   "source": [
    "options(repr.plot.width=6, repr.plot.height=6,repr.plot.res=75)\n",
    "ps[[1]]"
   ]
  },
  {
   "cell_type": "code",
   "execution_count": null,
   "id": "642a30f2-df30-4260-89e8-d519a06ec928",
   "metadata": {},
   "outputs": [],
   "source": []
  },
  {
   "cell_type": "markdown",
   "id": "44d1c644-4265-4e8b-9852-45e60249d56e",
   "metadata": {},
   "source": [
    "# Read Mito redeem data"
   ]
  },
  {
   "cell_type": "code",
   "execution_count": 22,
   "id": "1ad62bcb-e84f-4b36-b7cd-2d77cb755265",
   "metadata": {},
   "outputs": [
    {
     "name": "stderr",
     "output_type": "stream",
     "text": [
      "The following `from` values were not present in `x`: 2, 3\n",
      "\n",
      "The following `from` values were not present in `x`: 2, 3\n",
      "\n",
      "The following `from` values were not present in `x`: 2, 3\n",
      "\n",
      "The following `from` values were not present in `x`: 2, 3\n",
      "\n",
      "The following `from` values were not present in `x`: 2, 3\n",
      "\n"
     ]
    }
   ],
   "source": [
    "## Read Batch1 mito genotypes and depths\n",
    "WD<-paste(Dir,\"/data/CRISPR/batch1/\",sep=\"\")\n",
    "MKP.depth<-readRDS(paste(WD,\"/MKP_.depth\",sep=\"\"))\n",
    "RawGenotype<-read.table(paste(WD,\"RawGenotypes.Total.StrandBalance\",sep=\"\"))\n",
    "RawGenotype<-RawGenotype %>% mutate(V2=gsub(\"_1\",\"\",Translate_simple_RNA2ATAC(V2)))\n",
    "RawGenotype.list<-list()\n",
    "for(i in 1:6){\n",
    "    RawGenotype.sub<-subset(RawGenotype, V2 %in% CellNames[[i]])\n",
    "    RawGenotype.list<-c(RawGenotype.list,list(RawGenotype.sub))\n",
    "}\n",
    "names(RawGenotype.list)<-Samples.batch1\n",
    "\n",
    "#### Change MKP.depth name into ATAC names\n",
    "MKP.depth<-lapply(MKP.depth,function(x){\n",
    "    out<-x\n",
    "    out[[2]]<-out[[2]] %>% mutate(V1=gsub(\"_1\",\"\",Translate_simple_RNA2ATAC(V1)))\n",
    "    return(out)                        \n",
    "})"
   ]
  },
  {
   "cell_type": "code",
   "execution_count": 23,
   "id": "48618547-3bb5-4190-b83a-0adc54d335cf",
   "metadata": {},
   "outputs": [],
   "source": [
    "## Read Batch2 mito genotypes and depths\n",
    "WD<-paste(Dir,\"/data/CRISPR/batch2/\",sep=\"\")\n",
    "MKP.depth.batch2<-readRDS(paste(WD,\"/MKP2.depth\",sep=\"\"))\n",
    "RawGenotype.batch2<-read.table(paste(WD,\"RawGenotypes.Total.StrandBalance\",sep=\"\"))\n",
    "#RawGenotype.batch2<-RawGenotype.batch2 %>% mutate(V2=gsub(\"_1\",\"\",Translate_simple_RNA2ATAC(V2)))\n",
    "RawGenotype.list.batch2<-list()\n",
    "for(i in 1:6){\n",
    "    RawGenotype.sub<-subset(RawGenotype.batch2, V2 %in% CellNames.batch2[[i]])\n",
    "    RawGenotype.list.batch2<-c(RawGenotype.list.batch2,list(RawGenotype.sub))\n",
    "}\n",
    "names(RawGenotype.list.batch2)<-names(whm.list.batch2)"
   ]
  },
  {
   "cell_type": "code",
   "execution_count": 24,
   "id": "f5033cdf-261f-4c4c-85d6-aa86da7b5571",
   "metadata": {},
   "outputs": [
    {
     "data": {
      "text/html": [
       "<style>\n",
       ".list-inline {list-style: none; margin:0; padding: 0}\n",
       ".list-inline>li {display: inline-block}\n",
       ".list-inline>li:not(:last-child)::after {content: \"\\00b7\"; padding: 0 .5ex}\n",
       "</style>\n",
       "<ol class=list-inline><li>'CD24_1'</li><li>'CD47_1'</li><li>'CD47_2'</li><li>'Ctrl_1'</li><li>'Ctrl_2'</li><li>'DKO_1'</li></ol>\n"
      ],
      "text/latex": [
       "\\begin{enumerate*}\n",
       "\\item 'CD24\\_1'\n",
       "\\item 'CD47\\_1'\n",
       "\\item 'CD47\\_2'\n",
       "\\item 'Ctrl\\_1'\n",
       "\\item 'Ctrl\\_2'\n",
       "\\item 'DKO\\_1'\n",
       "\\end{enumerate*}\n"
      ],
      "text/markdown": [
       "1. 'CD24_1'\n",
       "2. 'CD47_1'\n",
       "3. 'CD47_2'\n",
       "4. 'Ctrl_1'\n",
       "5. 'Ctrl_2'\n",
       "6. 'DKO_1'\n",
       "\n",
       "\n"
      ],
      "text/plain": [
       "[1] \"CD24_1\" \"CD47_1\" \"CD47_2\" \"Ctrl_1\" \"Ctrl_2\" \"DKO_1\" "
      ]
     },
     "metadata": {},
     "output_type": "display_data"
    },
    {
     "data": {
      "text/html": [
       "<style>\n",
       ".list-inline {list-style: none; margin:0; padding: 0}\n",
       ".list-inline>li {display: inline-block}\n",
       ".list-inline>li:not(:last-child)::after {content: \"\\00b7\"; padding: 0 .5ex}\n",
       "</style>\n",
       "<ol class=list-inline><li>'NT1'</li><li>'NT2'</li><li>'T24_1'</li><li>'T24_2'</li><li>'T24_3'</li><li>'T47_1'</li></ol>\n"
      ],
      "text/latex": [
       "\\begin{enumerate*}\n",
       "\\item 'NT1'\n",
       "\\item 'NT2'\n",
       "\\item 'T24\\_1'\n",
       "\\item 'T24\\_2'\n",
       "\\item 'T24\\_3'\n",
       "\\item 'T47\\_1'\n",
       "\\end{enumerate*}\n"
      ],
      "text/markdown": [
       "1. 'NT1'\n",
       "2. 'NT2'\n",
       "3. 'T24_1'\n",
       "4. 'T24_2'\n",
       "5. 'T24_3'\n",
       "6. 'T47_1'\n",
       "\n",
       "\n"
      ],
      "text/plain": [
       "[1] \"NT1\"   \"NT2\"   \"T24_1\" \"T24_2\" \"T24_3\" \"T47_1\""
      ]
     },
     "metadata": {},
     "output_type": "display_data"
    }
   ],
   "source": [
    "names(RawGenotype.list)\n",
    "names(RawGenotype.list.batch2)"
   ]
  },
  {
   "cell_type": "markdown",
   "id": "d7ed2b4f-4591-4161-b9cc-99a9712bc726",
   "metadata": {},
   "source": [
    "## Get mito_master.list"
   ]
  },
  {
   "cell_type": "code",
   "execution_count": 25,
   "id": "a96b26ca-a4d8-479e-818c-8f2d43204cb0",
   "metadata": {},
   "outputs": [
    {
     "data": {
      "text/html": [
       "<style>\n",
       ".list-inline {list-style: none; margin:0; padding: 0}\n",
       ".list-inline>li {display: inline-block}\n",
       ".list-inline>li:not(:last-child)::after {content: \"\\00b7\"; padding: 0 .5ex}\n",
       "</style>\n",
       "<ol class=list-inline><li>7258</li><li>2027</li></ol>\n"
      ],
      "text/latex": [
       "\\begin{enumerate*}\n",
       "\\item 7258\n",
       "\\item 2027\n",
       "\\end{enumerate*}\n"
      ],
      "text/markdown": [
       "1. 7258\n",
       "2. 2027\n",
       "\n",
       "\n"
      ],
      "text/plain": [
       "[1] 7258 2027"
      ]
     },
     "metadata": {},
     "output_type": "display_data"
    }
   ],
   "source": [
    "## get whitelist for batch1\n",
    "MKP_mitoTracing.VerySensitive<-readRDS(paste(Dir,\"/data/CRISPR/batch1/MKP_mitoTracing.VerySensitive\",sep=\"\"))\n",
    "dim(MKP_mitoTracing.VerySensitive@Cts.Mtx.bi)\n",
    "MKP_WhiteList<-colnames(MKP_mitoTracing.VerySensitive@Cts.Mtx.bi)"
   ]
  },
  {
   "cell_type": "code",
   "execution_count": 26,
   "id": "ed445843-80bc-43f3-b0b4-092f4cdb26cc",
   "metadata": {},
   "outputs": [
    {
     "data": {
      "text/html": [
       "<style>\n",
       ".list-inline {list-style: none; margin:0; padding: 0}\n",
       ".list-inline>li {display: inline-block}\n",
       ".list-inline>li:not(:last-child)::after {content: \"\\00b7\"; padding: 0 .5ex}\n",
       "</style>\n",
       "<ol class=list-inline><li>7251</li><li>2684</li></ol>\n"
      ],
      "text/latex": [
       "\\begin{enumerate*}\n",
       "\\item 7251\n",
       "\\item 2684\n",
       "\\end{enumerate*}\n"
      ],
      "text/markdown": [
       "1. 7251\n",
       "2. 2684\n",
       "\n",
       "\n"
      ],
      "text/plain": [
       "[1] 7251 2684"
      ]
     },
     "metadata": {},
     "output_type": "display_data"
    }
   ],
   "source": [
    "## get whitelist for batch2\n",
    "MKP2_mitoTracing.VerySensitive<-readRDS(paste(Dir,\"/data/CRISPR/batch2/MKP2_mitoTracing.VerySensitive\",sep=\"\"))\n",
    "dim(MKP2_mitoTracing.VerySensitive@Cts.Mtx.bi)\n",
    "MKP2_WhiteList<-colnames(MKP2_mitoTracing.VerySensitive@Cts.Mtx.bi)"
   ]
  },
  {
   "cell_type": "code",
   "execution_count": 52,
   "id": "878da33c-3470-4886-9422-c7a3d5c77278",
   "metadata": {
    "scrolled": true,
    "tags": []
   },
   "outputs": [
    {
     "name": "stdout",
     "output_type": "stream",
     "text": [
      "[1] 2\n",
      "[1] \"Sensitive :\\n 4675 variants to start\"\n",
      "[1] \"4586 variants after remove low quality cells\"\n",
      "[1] 2\n",
      "[1] \"After filtering, 166 Variants left\"\n",
      "[1] \"\\n\\n\"\n"
     ]
    },
    {
     "name": "stderr",
     "output_type": "stream",
     "text": [
      "Create_mitoTracing has been deprecated, please use Create_redeemR\n",
      "\n"
     ]
    },
    {
     "name": "stdout",
     "output_type": "stream",
     "text": [
      "[1] 2\n",
      "[1] \"Sensitive :\\n 3482 variants to start\"\n",
      "[1] \"3402 variants after remove low quality cells\"\n",
      "[1] 2\n",
      "[1] \"After filtering, 87 Variants left\"\n",
      "[1] \"\\n\\n\"\n"
     ]
    },
    {
     "name": "stderr",
     "output_type": "stream",
     "text": [
      "Create_mitoTracing has been deprecated, please use Create_redeemR\n",
      "\n"
     ]
    },
    {
     "name": "stdout",
     "output_type": "stream",
     "text": [
      "[1] 2\n",
      "[1] \"Sensitive :\\n 5108 variants to start\"\n",
      "[1] \"5015 variants after remove low quality cells\"\n",
      "[1] 2\n",
      "[1] \"After filtering, 194 Variants left\"\n",
      "[1] \"\\n\\n\"\n"
     ]
    },
    {
     "name": "stderr",
     "output_type": "stream",
     "text": [
      "Create_mitoTracing has been deprecated, please use Create_redeemR\n",
      "\n"
     ]
    },
    {
     "name": "stdout",
     "output_type": "stream",
     "text": [
      "[1] 2\n",
      "[1] \"Sensitive :\\n 5583 variants to start\"\n",
      "[1] \"5490 variants after remove low quality cells\"\n",
      "[1] 2\n",
      "[1] \"After filtering, 229 Variants left\"\n",
      "[1] \"\\n\\n\"\n"
     ]
    },
    {
     "name": "stderr",
     "output_type": "stream",
     "text": [
      "Create_mitoTracing has been deprecated, please use Create_redeemR\n",
      "\n"
     ]
    },
    {
     "name": "stdout",
     "output_type": "stream",
     "text": [
      "[1] 2\n",
      "[1] \"Sensitive :\\n 3167 variants to start\"\n",
      "[1] \"3098 variants after remove low quality cells\"\n",
      "[1] 2\n",
      "[1] \"After filtering, 103 Variants left\"\n",
      "[1] \"\\n\\n\"\n"
     ]
    },
    {
     "name": "stderr",
     "output_type": "stream",
     "text": [
      "Create_mitoTracing has been deprecated, please use Create_redeemR\n",
      "\n"
     ]
    },
    {
     "name": "stdout",
     "output_type": "stream",
     "text": [
      "[1] 2\n",
      "[1] \"Sensitive :\\n 4860 variants to start\"\n",
      "[1] \"4744 variants after remove low quality cells\"\n",
      "[1] 2\n",
      "[1] \"After filtering, 187 Variants left\"\n",
      "[1] \"\\n\\n\"\n"
     ]
    },
    {
     "name": "stderr",
     "output_type": "stream",
     "text": [
      "Create_mitoTracing has been deprecated, please use Create_redeemR\n",
      "\n"
     ]
    }
   ],
   "source": [
    "mito_master.list<-list()\n",
    "for(i in 1:6){\n",
    "    mito_master<-Make_MitoTracing_VS(RawGenotype.list[[i]],depth =MKP.depth,Homo=c(),WhitelistV = MKP_WhiteList)\n",
    "    mito_master.list<-c(mito_master.list,list(mito_master))\n",
    "}\n",
    "names(mito_master.list)<-Samples.batch1"
   ]
  },
  {
   "cell_type": "code",
   "execution_count": 53,
   "id": "efd8e481-ba5d-4c4b-9418-651177fc803b",
   "metadata": {},
   "outputs": [
    {
     "name": "stdout",
     "output_type": "stream",
     "text": [
      "[1] 2\n",
      "[1] \"Sensitive :\\n 32358 variants to start\"\n",
      "[1] \"32290 variants after remove low quality cells\"\n",
      "[1] 2\n",
      "[1] \"After filtering, 2252 Variants left\"\n",
      "[1] \"\\n\\n\"\n"
     ]
    },
    {
     "name": "stderr",
     "output_type": "stream",
     "text": [
      "Create_mitoTracing has been deprecated, please use Create_redeemR\n",
      "\n"
     ]
    },
    {
     "name": "stdout",
     "output_type": "stream",
     "text": [
      "[1] 2\n",
      "[1] \"Sensitive :\\n 17446 variants to start\"\n",
      "[1] \"17365 variants after remove low quality cells\"\n",
      "[1] 2\n",
      "[1] \"After filtering, 1067 Variants left\"\n",
      "[1] \"\\n\\n\"\n"
     ]
    },
    {
     "name": "stderr",
     "output_type": "stream",
     "text": [
      "Create_mitoTracing has been deprecated, please use Create_redeemR\n",
      "\n"
     ]
    },
    {
     "name": "stdout",
     "output_type": "stream",
     "text": [
      "[1] 2\n",
      "[1] \"Sensitive :\\n 26785 variants to start\"\n",
      "[1] \"26729 variants after remove low quality cells\"\n",
      "[1] 2\n",
      "[1] \"After filtering, 1869 Variants left\"\n",
      "[1] \"\\n\\n\"\n"
     ]
    },
    {
     "name": "stderr",
     "output_type": "stream",
     "text": [
      "Create_mitoTracing has been deprecated, please use Create_redeemR\n",
      "\n"
     ]
    },
    {
     "name": "stdout",
     "output_type": "stream",
     "text": [
      "[1] 2\n",
      "[1] \"Sensitive :\\n 30537 variants to start\"\n",
      "[1] \"30493 variants after remove low quality cells\"\n",
      "[1] 2\n",
      "[1] \"After filtering, 2124 Variants left\"\n",
      "[1] \"\\n\\n\"\n"
     ]
    },
    {
     "name": "stderr",
     "output_type": "stream",
     "text": [
      "Create_mitoTracing has been deprecated, please use Create_redeemR\n",
      "\n"
     ]
    },
    {
     "name": "stdout",
     "output_type": "stream",
     "text": [
      "[1] 2\n",
      "[1] \"Sensitive :\\n 19813 variants to start\"\n",
      "[1] \"19772 variants after remove low quality cells\"\n",
      "[1] 2\n",
      "[1] \"After filtering, 1267 Variants left\"\n",
      "[1] \"\\n\\n\"\n"
     ]
    },
    {
     "name": "stderr",
     "output_type": "stream",
     "text": [
      "Create_mitoTracing has been deprecated, please use Create_redeemR\n",
      "\n"
     ]
    },
    {
     "name": "stdout",
     "output_type": "stream",
     "text": [
      "[1] 2\n",
      "[1] \"Sensitive :\\n 15627 variants to start\"\n",
      "[1] \"15478 variants after remove low quality cells\"\n",
      "[1] 2\n",
      "[1] \"After filtering, 921 Variants left\"\n",
      "[1] \"\\n\\n\"\n"
     ]
    },
    {
     "name": "stderr",
     "output_type": "stream",
     "text": [
      "Create_mitoTracing has been deprecated, please use Create_redeemR\n",
      "\n"
     ]
    }
   ],
   "source": [
    "mito_master.list.batch2<-list()\n",
    "for(i in 1:6){\n",
    "    mito_master.batch2<-Make_MitoTracing_VS(RawGenotype.list.batch2[[i]],depth =MKP.depth.batch2,Homo=c(),WhitelistV = MKP2_WhiteList)\n",
    "    mito_master.list.batch2<-c(mito_master.list.batch2,list(mito_master.batch2))\n",
    "}\n",
    "names(mito_master.list.batch2)<-names(whm.list.batch2)"
   ]
  },
  {
   "cell_type": "code",
   "execution_count": 54,
   "id": "a07627df-dda8-4979-a7b8-617848d3924f",
   "metadata": {},
   "outputs": [],
   "source": [
    "mito_master.list<-c(mito_master.list,mito_master.list.batch2)"
   ]
  },
  {
   "cell_type": "code",
   "execution_count": 65,
   "id": "07fa62a0-d25a-4b26-b041-581cdee92d50",
   "metadata": {},
   "outputs": [
    {
     "name": "stdout",
     "output_type": "stream",
     "text": [
      "[1] 1\n",
      "[1] 2\n",
      "[1] 3\n",
      "[1] 4\n",
      "[1] 5\n",
      "[1] 6\n",
      "[1] 7\n",
      "[1] 8\n",
      "[1] 9\n",
      "[1] 10\n",
      "[1] 11\n",
      "[1] 12\n"
     ]
    },
    {
     "data": {
      "image/png": "[encoded data removed]",
      "text/plain": [
       "plot without title"
      ]
     },
     "metadata": {
      "image/png": {
       "height": 600,
       "width": 300
      }
     },
     "output_type": "display_data"
    }
   ],
   "source": [
    "ps<-list()\n",
    "phylo.list<-list()\n",
    "for(i in 1:12){\n",
    "print(i)\n",
    "phylo.list<-c(phylo.list,list(mito_master.list[[i]]$phylo))\n",
    "p<-ggtree(as.treedata(mito_master.list[[i]]$phylo),branch.length=\"none\")+ggtitle(names(mito_master.list)[i])\n",
    "ps<-c(ps,list(p))\n",
    "}\n",
    "# names(ps)<-Samples\n",
    "options(repr.plot.width=6, repr.plot.height=12,repr.plot.res=100)\n",
    "grid.arrange(grobs=ps)"
   ]
  },
  {
   "cell_type": "code",
   "execution_count": null,
   "id": "6e11df0b-b6be-43e0-9b38-8b725a56fb75",
   "metadata": {},
   "outputs": [],
   "source": []
  }
 ],
 "metadata": {
  "kernelspec": {
   "display_name": "R 4.3",
   "language": "R",
   "name": "r4.3"
  },
  "language_info": {
   "codemirror_mode": "r",
   "file_extension": ".r",
   "mimetype": "text/x-r-source",
   "name": "R",
   "pygments_lexer": "r",
   "version": "4.3.1"
  }
 },
 "nbformat": 4,
 "nbformat_minor": 5
}
