{
 "cells": [
  {
   "cell_type": "markdown",
   "id": "c5bbae5e-15e7-494f-bd1f-b0388f06accb",
   "metadata": {},
   "source": [
    "# Re: Issue-1 connectedness analyses #1\n",
    "---\n",
    "\n",
    "**Author:** Chen Weng\n",
    "\n",
    "**Date:** Febuary 25, 2024\n",
    "\n",
    "## Description\n",
    "\n",
    "This Jupyter Notebook clarify the connectedness analysis in Fig. 1f\n",
    "\n",
    "---"
   ]
  },
  {
   "cell_type": "code",
   "execution_count": 2,
   "id": "04060c0f-c0e0-49ed-be95-12bd4e905aa2",
   "metadata": {},
   "outputs": [],
   "source": [
    "library(Matrix)\n",
    "library(dplyr)\n",
    "library(redeemR)\n",
    "library(igraph)"
   ]
  },
  {
   "cell_type": "code",
   "execution_count": 177,
   "id": "cd7dea23-7f6d-4c78-ab5a-fdbf6050f4f6",
   "metadata": {},
   "outputs": [],
   "source": [
    "Dir=\"/lab/solexa_weissman/cweng/Projects/MitoTracing_Velocity/SecondaryAnalysis/reproducibility_pub\" # Change this to your actual path **/reproducibility_pub"
   ]
  },
  {
   "cell_type": "code",
   "execution_count": 4,
   "id": "1991f129-4b04-49e1-a306-2a1ebab04ec9",
   "metadata": {},
   "outputs": [],
   "source": [
    "## Load mtscATAC(no_enrich) mgatk output for Young1 HPC\n",
    "Young1_HPC.mgatk.stats<-read.delim(paste(Dir,\"/data/redeemV_final/Young1.T1.HPC.NoEnrich.mgatk.final/final/DN4_HSPC.variant_stats.tsv.gz\",sep=\"\"))\n",
    "Young1_HPC.cell_heteroplasmic<-read.delim(paste(Dir,\"/data/redeemV_final/Young1.T1.HPC.NoEnrich.mgatk.final/final/DN4_HSPC.cell_heteroplasmic_df.tsv.gz\",sep=\"\"))"
   ]
  },
  {
   "cell_type": "code",
   "execution_count": 86,
   "id": "7810b1c3-37ba-4c46-abcf-3415e28062a9",
   "metadata": {},
   "outputs": [],
   "source": [
    "## Load redeem output for Young1 HPC (No-enrichment data)\n",
    "Young1_HPC_mitoTracing.sensitive<-readRDS(paste(Dir,\"/data/redeemR_object_oldversion/DN4_HPC_mitoTracing.sensitive\",sep=\"\"))"
   ]
  },
  {
   "cell_type": "code",
   "execution_count": 88,
   "id": "878c2571-2206-4185-9633-2a5a47b39576",
   "metadata": {},
   "outputs": [],
   "source": [
    "# mgatk data filtering, binarization,and removing the two highly abundant variants 310 and 3109\n",
    "Young1_mgatk_Selected_V<-subset(Young1_HPC.mgatk.stats,strand_correlation>0.6 & vmr>0.01 & n_cells_conf_detected>=3)\n",
    "Young1_mgatk_Selected_V<-subset(Young1_mgatk_Selected_V,!position %in% c(310,3109))\n",
    "SelectV.format<-paste(\"X\",gsub(\">\",\".\",Young1_mgatk_Selected_V$variant),sep=\"\")\n",
    "mgatk.selected.mtx<-Young1_HPC.cell_heteroplasmic[,c(\"X\",SelectV.format)] %>% tibble::column_to_rownames(\"X\")\n",
    "mgatk.selected.mtx[is.na(mgatk.selected.mtx)]<-0\n",
    "mgatk.selected.mtx[mgatk.selected.mtx!=0]<-1\n",
    "mgatk.selected.MTX<-as(as.matrix(mgatk.selected.mtx), \"sparseMatrix\")"
   ]
  },
  {
   "cell_type": "code",
   "execution_count": 89,
   "id": "66e7e725-9b5e-4409-add2-19fffaee54bb",
   "metadata": {},
   "outputs": [],
   "source": [
    "## Extract the redeem binary variant matrix, removing the two highly abundant variants 310T>C and 3109T>C\n",
    "Young1_HPC.Cts.Mtx.bi<-Young1_HPC_mitoTracing.sensitive@Cts.Mtx.bi[,-match(c(\"Variants310TC\",\"Variants3109TC\"),colnames(Young1_HPC_mitoTracing.sensitive@Cts.Mtx.bi))]\n"
   ]
  },
  {
   "cell_type": "code",
   "execution_count": 176,
   "id": "a2c9b57c-c8b3-48dd-99b9-3975dfd9dc03",
   "metadata": {},
   "outputs": [],
   "source": [
    "## function to count the connectedness (adjacency matrix), or the number of cells sharing more than n variants with the given cell\n",
    "CountOverlap_Adj<-function(M,n=2){\n",
    "    require(Matrix)\n",
    "    # Total <- Matrix::rowSums(M)\n",
    "    a <- M %*% Matrix::t(M)\n",
    "    a[a<=n]<-0\n",
    "    a[a>n]<-1\n",
    "    return(a)\n",
    "}"
   ]
  },
  {
   "cell_type": "code",
   "execution_count": 91,
   "id": "71631656-a006-4a47-99b0-43f70b91aaf9",
   "metadata": {},
   "outputs": [],
   "source": [
    "## Adjacency matrix,more than 2 variants shared\n",
    "mgatk_n2.adj.mtx<-CountOverlap_Adj(mgatk.selected.MTX,n=2) \n",
    "redeem_n2.adj.mtx<-CountOverlap_Adj(Young1_HPC.Cts.Mtx.bi,n=2)\n",
    "\n",
    "## Adjacency matrix,more than 1 variants shared\n",
    "## This is reported in Fig. 1f\n",
    "mgatk_n1.adj.mtx<-CountOverlap_Adj(mgatk.selected.MTX,n=1) \n",
    "redeem_n1.adj.mtx<-CountOverlap_Adj(Young1_HPC.Cts.Mtx.bi,n=1)\n",
    "\n",
    "## Adjacency matrix,more than 0 variants shared\n",
    "mgatk_n0.adj.mtx<-CountOverlap_Adj(mgatk.selected.MTX,n=0) \n",
    "redeem_n0.adj.mtx<-CountOverlap_Adj(Young1_HPC.Cts.Mtx.bi,n=0)"
   ]
  },
  {
   "cell_type": "code",
   "execution_count": 92,
   "id": "1e7bf986-d98f-4c79-8f5f-03d97e02d81a",
   "metadata": {},
   "outputs": [
    {
     "data": {
      "text/plain": [
       "   Min. 1st Qu.  Median    Mean 3rd Qu.    Max. \n",
       " 0.0000  0.0000  0.0000  0.2996  0.0000 13.0000 "
      ]
     },
     "metadata": {},
     "output_type": "display_data"
    },
    {
     "data": {
      "text/plain": [
       "   Min. 1st Qu.  Median    Mean 3rd Qu.    Max. \n",
       "   0.00    1.00    1.00   12.01    6.00  256.00 "
      ]
     },
     "metadata": {},
     "output_type": "display_data"
    }
   ],
   "source": [
    "## Count the number of cells that share more than 2 variants (The connectdedness is self-inclusive)\n",
    "rowSums(mgatk_n2.adj.mtx) %>% summary\n",
    "rowSums(redeem_n2.adj.mtx) %>% summary"
   ]
  },
  {
   "cell_type": "code",
   "execution_count": 93,
   "id": "d74be518-96c8-436e-ae40-4cfad19249e2",
   "metadata": {},
   "outputs": [
    {
     "data": {
      "text/plain": [
       "   Min. 1st Qu.  Median    Mean 3rd Qu.    Max. \n",
       "  0.000   0.000   0.000   4.017   2.000 179.000 "
      ]
     },
     "metadata": {},
     "output_type": "display_data"
    },
    {
     "data": {
      "text/plain": [
       "   Min. 1st Qu.  Median    Mean 3rd Qu.    Max. \n",
       "    0.0     3.0    16.0    50.8    74.0   508.0 "
      ]
     },
     "metadata": {},
     "output_type": "display_data"
    }
   ],
   "source": [
    "## Count the number of cells that share more than 1 variants (The connectdedness is self-inclusive)\n",
    "## This is reported in Fig. 1f\n",
    "rowSums(mgatk_n1.adj.mtx) %>% summary\n",
    "rowSums(redeem_n1.adj.mtx) %>% summary"
   ]
  },
  {
   "cell_type": "code",
   "execution_count": 94,
   "id": "dbe4a49f-96da-4976-8c0e-0ccc2e7eb09e",
   "metadata": {},
   "outputs": [
    {
     "data": {
      "text/plain": [
       "   Min. 1st Qu.  Median    Mean 3rd Qu.    Max. \n",
       "    0.0     0.0    42.0   182.2   165.0  1340.0 "
      ]
     },
     "metadata": {},
     "output_type": "display_data"
    },
    {
     "data": {
      "text/plain": [
       "   Min. 1st Qu.  Median    Mean 3rd Qu.    Max. \n",
       "    0.0   156.0   336.0   391.8   565.0  1823.0 "
      ]
     },
     "metadata": {},
     "output_type": "display_data"
    }
   ],
   "source": [
    "## Count the number of cells that share more than 0 variants (The connectdedness is self-inclusive)\n",
    "rowSums(mgatk_n0.adj.mtx) %>% summary\n",
    "rowSums(redeem_n0.adj.mtx) %>% summary"
   ]
  },
  {
   "cell_type": "markdown",
   "id": "fac86bb2-bc03-4e1d-9e96-d5522bd18594",
   "metadata": {},
   "source": [
    "> We tested several different \"n\" to check the robustness of the comparison on connectedness.\n",
    "The difference between before (via mgatk) and after enrichment (via redeem) is consistent.\n",
    "We reported the redeem_n1.adj.mtx\n",
    "\n",
    "In Fig. 1f, The adjacency matrix is then converted into igraph and output into software grephi for visulization"
   ]
  },
  {
   "cell_type": "code",
   "execution_count": null,
   "id": "57c505b4-2bba-4ce2-8353-49941a77f9ad",
   "metadata": {},
   "outputs": [],
   "source": []
  },
  {
   "cell_type": "code",
   "execution_count": 163,
   "id": "83f3646c-1b44-4309-b2e3-a459e57955ff",
   "metadata": {},
   "outputs": [
    {
     "data": {
      "text/plain": [
       "   Min. 1st Qu.  Median    Mean 3rd Qu.    Max. \n",
       "    0.0   155.0   335.0   390.8   564.0  1822.0 "
      ]
     },
     "metadata": {},
     "output_type": "display_data"
    }
   ],
   "source": [
    "#### Re Caleb's note  https://github.com/chenweng1991/redeem_reproducibility/issues/1\n",
    "#------\n",
    "# Need help from here:\n",
    "# how does one compute the cell-cell connectedness?\n",
    "#------\n",
    "Cts.Mtx.bin<-Young1_HPC.Cts.Mtx.bi\n",
    "# Caleb attempt:\n",
    "# loop over each cell \n",
    "sapply(1:dim(Cts.Mtx.bin)[1], function(i){\n",
    "  \n",
    "  # determine what mutations that individual cell has\n",
    "  variant_indicies <- as.numeric(which(Cts.Mtx.bin[i,] > 0))\n",
    "  \n",
    "  # subset full matrix to only those mutations (and remove index cell)\n",
    "  Cts.Mtx.bin.ss <- Cts.Mtx.bin[-i,variant_indicies, drop = FALSE]\n",
    "  \n",
    "  # count the number of cells that have one or more of the mutations\n",
    "  # found in the original cell\n",
    "  # This should be the connectedness, right? \n",
    "  sum(rowSums(Cts.Mtx.bin.ss) >= 1)\n",
    "  \n",
    "}) %>% summary() \n",
    "\n",
    "### This measure is equivalent to redeem_n0.adj.mtx\n",
    "### In Fig. 1f, We actually reported the connectedness with a more stringent threadhold redeem_n1.adj.mtx. \n"
   ]
  },
  {
   "cell_type": "markdown",
   "id": "2593c16b-8684-400d-bd6f-c32055d0196a",
   "metadata": {},
   "source": [
    "In that regard, to clarify the definition of connectedness in Fig. 1f: </br>\n",
    "*The connectedness is defined as the number of “neighbor” cells that share more than 1 mtDNA mutation with any given cell.*"
   ]
  },
  {
   "cell_type": "code",
   "execution_count": null,
   "id": "ebd1ead0-114b-4b85-a864-d806d05001ce",
   "metadata": {},
   "outputs": [],
   "source": []
  }
 ],
 "metadata": {
  "kernelspec": {
   "display_name": "R 4.3",
   "language": "R",
   "name": "r4.3"
  },
  "language_info": {
   "codemirror_mode": "r",
   "file_extension": ".r",
   "mimetype": "text/x-r-source",
   "name": "R",
   "pygments_lexer": "r",
   "version": "4.3.1"
  }
 },
 "nbformat": 4,
 "nbformat_minor": 5
}
